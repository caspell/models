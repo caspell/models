{
 "cells": [
  {
   "cell_type": "code",
   "execution_count": 1,
   "metadata": {
    "collapsed": false
   },
   "outputs": [
    {
     "name": "stdout",
     "output_type": "stream",
     "text": [
      "Extracting /home/mhkim/data/mnist/train-images-idx3-ubyte.gz\n",
      "Extracting /home/mhkim/data/mnist/train-labels-idx1-ubyte.gz\n",
      "Extracting /home/mhkim/data/mnist/t10k-images-idx3-ubyte.gz\n",
      "Extracting /home/mhkim/data/mnist/t10k-labels-idx1-ubyte.gz\n"
     ]
    }
   ],
   "source": [
    "import numpy as np\n",
    "import tensorflow as tf\n",
    "import matplotlib.pyplot as plt\n",
    "import argparse\n",
    "import gzip\n",
    "import os\n",
    "import sys\n",
    "import time\n",
    "from six.moves import urllib\n",
    "\n",
    "import mnist_common as cmm\n",
    "\n",
    "from tensorflow.examples.tutorials.mnist import input_data\n",
    "\n",
    "mnist = input_data.read_data_sets('/home/mhkim/data/mnist', one_hot=True)\n",
    "\n",
    "train_checkpoint = '/home/mhkim/data/checkpoint/mnist_cnn/save.ckpt'\n",
    "\n",
    "SOURCE_URL = 'http://yann.lecun.com/exdb/mnist/'\n",
    "WORK_DIRECTORY = '/home/mhkim/data/mnist'\n",
    "\n",
    "IMAGE_SIZE = 28\n",
    "NUM_CHANNELS = 1\n",
    "PIXEL_DEPTH = 255\n",
    "NUM_LABELS = 10\n",
    "VALIDATION_SIZE = 5000\n",
    "SEED = 66478\n",
    "BATCH_SIZE = 64\n",
    "NUM_EPOCHS = 10\n",
    "EVAL_FREQUENCY = 100  # Number of steps between evaluations.\n",
    "EVAL_BATCH_SIZE = 64\n",
    "\n",
    "test_data_filename = cmm.maybe_download('t10k-images-idx3-ubyte.gz')\n",
    "test_labels_filename = cmm.maybe_download('t10k-labels-idx1-ubyte.gz')\n",
    "\n",
    "test_data = cmm.extract_data(test_data_filename, 1)\n",
    "test_labels = cmm.extract_labels(test_labels_filename, 1)\n",
    "\n",
    "eval_data = tf.placeholder( tf.float32, shape=(1, IMAGE_SIZE, IMAGE_SIZE, NUM_CHANNELS), name='eval_data')\n",
    "\n",
    "W1 = tf.Variable(tf.truncated_normal([5, 5, NUM_CHANNELS, 32], stddev=0.1, seed=SEED, dtype=tf.float32), name='W1')\n",
    "W2 = tf.Variable(tf.truncated_normal([5, 5, 32, 64], stddev=0.1, seed=SEED, dtype=tf.float32), name='W2')\n",
    "\n",
    "b1 = tf.Variable(tf.zeros([32], dtype=tf.float32), name='bias1')\n",
    "b2 = tf.Variable(tf.constant(0.1, shape=[64], dtype=tf.float32), name='bias2')\n",
    "\n",
    "fc1_weight = tf.Variable( tf.truncated_normal([IMAGE_SIZE // 4 * IMAGE_SIZE // 4 * 64, 512], stddev=0.1, seed=SEED, dtype=tf.float32), name='fc1_weight')\n",
    "fc1_bias = tf.Variable(tf.constant(0.1, shape=[512], dtype=tf.float32), name='fc1_bias')\n",
    "\n",
    "fc2_weight = tf.Variable(tf.truncated_normal([512, NUM_LABELS], stddev=0.1, seed=SEED, dtype=tf.float32), name='fc2_weight')\n",
    "fc2_bias = tf.Variable(tf.constant(0.1, shape=[NUM_LABELS], dtype=tf.float32), name='fc2_bias')\n",
    "\n",
    "with tf.name_scope('model'):\n",
    "    conv = tf.nn.conv2d(eval_data, W1, strides=[1, 1, 1, 1], padding='SAME')\n",
    "    relu = tf.nn.relu(tf.nn.bias_add(conv, b1), name='relu1')\n",
    "    pool = tf.nn.max_pool(relu, ksize=[1, 2, 2, 1], strides=[1, 2, 2, 1], padding='SAME')\n",
    "\n",
    "    conv = tf.nn.conv2d(pool, W2, strides=[1, 1, 1, 1], padding='SAME')\n",
    "    relu = tf.nn.relu(tf.nn.bias_add(conv, b2))\n",
    "    pool = tf.nn.max_pool(relu, ksize=[1, 2, 2, 1], strides=[1, 2, 2, 1], padding='SAME')\n",
    "\n",
    "    pool_shape = pool.get_shape().as_list()\n",
    "\n",
    "    reshape = tf.reshape(pool, [pool_shape[0], pool_shape[1] * pool_shape[2] * pool_shape[3]])\n",
    "\n",
    "    hidden = tf.nn.dropout(tf.nn.relu(tf.matmul(reshape, fc1_weight) + fc1_bias), 1., seed=SEED)\n",
    "\n",
    "    logits = tf.matmul(hidden, fc2_weight) + fc2_bias\n",
    "\n",
    "eval_prediction = tf.nn.softmax(logits)\n",
    "\n",
    "sess = tf.InteractiveSession()\n",
    "\n",
    "init = tf.global_variables_initializer()\n",
    "\n",
    "sess.run(init)\n",
    "\n",
    "saver = tf.train.Saver()\n",
    "\n",
    "saver.restore(sess, train_checkpoint)"
   ]
  },
  {
   "cell_type": "code",
   "execution_count": 6,
   "metadata": {
    "collapsed": false
   },
   "outputs": [
    {
     "data": {
      "text/html": [
       "<table>\n",
       "<td style=\"border-style: none;\">\n",
       "<div style=\"border: solid 2px #666; width: 143px; height: 144px;\">\n",
       "<canvas width=\"140\" height=\"140\"></canvas>\n",
       "</div></td>\n",
       "<td style=\"border-style: none;\">\n",
       "<button onclick=\"clear_value()\">Clear</button>\n",
       "</td>\n",
       "</table>\n",
       "\n",
       "<script type=\"text/Javascript\">\n",
       "    var pixels = [];\n",
       "    for (var i = 0; i < 28*28; i++) pixels[i] = 0\n",
       "    var click = 0;\n",
       "\n",
       "    var canvas = document.querySelector(\"canvas\");\n",
       "    canvas.addEventListener(\"mousemove\", function(e){\n",
       "        if (e.buttons == 1) {\n",
       "            click = 1;\n",
       "            canvas.getContext(\"2d\").fillStyle = \"rgb(0,0,0)\";\n",
       "            canvas.getContext(\"2d\").fillRect(e.offsetX, e.offsetY, 8, 8);\n",
       "            x = Math.floor(e.offsetY * 0.2)\n",
       "            y = Math.floor(e.offsetX * 0.2) + 1\n",
       "            for (var dy = 0; dy < 2; dy++){\n",
       "                for (var dx = 0; dx < 2; dx++){\n",
       "                    if ((x + dx < 28) && (y + dy < 28)){\n",
       "                        pixels[(y+dy)+(x+dx)*28] = 1\n",
       "                    }\n",
       "                }\n",
       "            }\n",
       "        } else {\n",
       "            if (click == 1) set_value()\n",
       "            click = 0;\n",
       "        }\n",
       "    });\n",
       "\n",
       "    function set_value(){\n",
       "        var result = \"\"\n",
       "        for (var i = 0; i < 28*28; i++) result += pixels[i] + \",\"\n",
       "        var kernel = IPython.notebook.kernel;\n",
       "        kernel.execute(\"image = [\" + result + \"]\");\n",
       "    }\n",
       "\n",
       "    function clear_value(){\n",
       "        canvas.getContext(\"2d\").fillStyle = \"rgb(255,255,255)\";\n",
       "        canvas.getContext(\"2d\").fillRect(0, 0, 140, 140);\n",
       "        for (var i = 0; i < 28*28; i++) pixels[i] = 0\n",
       "    }\n",
       "</script>"
      ],
      "text/plain": [
       "<IPython.core.display.HTML object>"
      ]
     },
     "execution_count": 6,
     "metadata": {},
     "output_type": "execute_result"
    }
   ],
   "source": [
    "inputForm = ''\n",
    "with open('mnist_nn_input.template', 'r') as f :\n",
    "    for line in f.readlines() :\n",
    "        inputForm += line\n",
    "\n",
    "from IPython.display import HTML\n",
    "HTML(inputForm)"
   ]
  },
  {
   "cell_type": "code",
   "execution_count": 7,
   "metadata": {
    "collapsed": false
   },
   "outputs": [
    {
     "name": "stdout",
     "output_type": "stream",
     "text": [
      "[[0], [0], [0], [0], [0], [0], [0], [0], [0], [0], [0], [0], [0], [0], [0], [0], [0], [0], [0], [0], [0], [0], [0], [0], [0], [0], [0], [0]]\n",
      "[[0], [0], [0], [0], [0], [0], [0], [0], [0], [0], [0], [0], [0], [0], [0], [0], [0], [0], [0], [0], [0], [0], [0], [0], [0], [0], [0], [0]]\n",
      "[[0], [0], [0], [0], [0], [0], [0], [0], [0], [0], [0], [0], [0], [0], [0], [0], [0], [0], [0], [0], [0], [0], [0], [0], [0], [0], [0], [0]]\n",
      "[[0], [0], [0], [0], [0], [0], [0], [0], [0], [0], [0], [0], [0], [0], [0], [0], [0], [0], [0], [0], [0], [0], [0], [0], [0], [0], [0], [0]]\n",
      "[[0], [0], [0], [0], [0], [0], [0], [0], [0], [0], [0], [0], [0], [0], [0], [0], [0], [0], [0], [0], [0], [0], [0], [0], [0], [0], [0], [0]]\n",
      "[[0], [0], [0], [0], [0], [0], [0], [0], [0], [0], [0], [0], [0], [0], [0], [0], [0], [0], [0], [0], [0], [0], [0], [0], [0], [0], [0], [0]]\n",
      "[[0], [0], [0], [0], [0], [0], [0], [0], [1], [1], [1], [1], [1], [1], [0], [0], [0], [0], [0], [0], [0], [0], [0], [0], [0], [0], [0], [0]]\n",
      "[[0], [0], [0], [0], [0], [0], [0], [0], [1], [1], [1], [1], [1], [1], [1], [0], [0], [0], [0], [0], [0], [0], [0], [0], [0], [0], [0], [0]]\n",
      "[[0], [0], [0], [0], [0], [0], [0], [0], [1], [1], [1], [0], [0], [1], [1], [1], [0], [0], [0], [0], [0], [0], [0], [0], [0], [0], [0], [0]]\n",
      "[[0], [0], [0], [0], [0], [0], [0], [0], [0], [1], [1], [0], [0], [0], [1], [1], [1], [0], [0], [0], [0], [0], [0], [0], [0], [0], [0], [0]]\n",
      "[[0], [0], [0], [0], [0], [0], [0], [0], [0], [1], [1], [1], [0], [0], [1], [1], [1], [0], [0], [0], [0], [0], [0], [0], [0], [0], [0], [0]]\n",
      "[[0], [0], [0], [0], [0], [0], [0], [0], [0], [0], [1], [1], [1], [0], [0], [1], [1], [0], [0], [0], [0], [0], [0], [0], [0], [0], [0], [0]]\n",
      "[[0], [0], [0], [0], [0], [0], [0], [0], [0], [0], [1], [1], [1], [0], [0], [1], [1], [0], [0], [0], [0], [0], [0], [0], [0], [0], [0], [0]]\n",
      "[[0], [0], [0], [0], [0], [0], [0], [0], [0], [0], [0], [1], [1], [1], [1], [1], [1], [0], [0], [0], [0], [0], [0], [0], [0], [0], [0], [0]]\n",
      "[[0], [0], [0], [0], [0], [0], [0], [0], [0], [0], [0], [0], [1], [1], [1], [1], [1], [0], [0], [0], [0], [0], [0], [0], [0], [0], [0], [0]]\n",
      "[[0], [0], [0], [0], [0], [0], [0], [0], [0], [0], [0], [1], [1], [1], [1], [1], [1], [0], [0], [0], [0], [0], [0], [0], [0], [0], [0], [0]]\n",
      "[[0], [0], [0], [0], [0], [0], [0], [0], [0], [0], [0], [1], [1], [0], [1], [1], [1], [0], [0], [0], [0], [0], [0], [0], [0], [0], [0], [0]]\n",
      "[[0], [0], [0], [0], [0], [0], [0], [0], [0], [0], [1], [1], [1], [0], [0], [1], [1], [1], [0], [0], [0], [0], [0], [0], [0], [0], [0], [0]]\n",
      "[[0], [0], [0], [0], [0], [0], [0], [0], [0], [0], [1], [1], [1], [0], [0], [1], [1], [1], [1], [0], [0], [0], [0], [0], [0], [0], [0], [0]]\n",
      "[[0], [0], [0], [0], [0], [0], [0], [0], [0], [0], [1], [1], [1], [0], [0], [0], [1], [1], [1], [1], [0], [0], [0], [0], [0], [0], [0], [0]]\n",
      "[[0], [0], [0], [0], [0], [0], [0], [0], [0], [0], [0], [1], [1], [0], [0], [0], [0], [1], [1], [1], [0], [0], [0], [0], [0], [0], [0], [0]]\n",
      "[[0], [0], [0], [0], [0], [0], [0], [0], [0], [0], [0], [1], [1], [1], [0], [0], [0], [1], [1], [1], [0], [0], [0], [0], [0], [0], [0], [0]]\n",
      "[[0], [0], [0], [0], [0], [0], [0], [0], [0], [0], [0], [1], [1], [1], [1], [0], [0], [1], [1], [1], [0], [0], [0], [0], [0], [0], [0], [0]]\n",
      "[[0], [0], [0], [0], [0], [0], [0], [0], [0], [0], [0], [0], [1], [1], [1], [1], [1], [1], [1], [0], [0], [0], [0], [0], [0], [0], [0], [0]]\n",
      "[[0], [0], [0], [0], [0], [0], [0], [0], [0], [0], [0], [0], [0], [1], [1], [1], [1], [1], [1], [0], [0], [0], [0], [0], [0], [0], [0], [0]]\n",
      "[[0], [0], [0], [0], [0], [0], [0], [0], [0], [0], [0], [0], [0], [0], [0], [0], [0], [0], [0], [0], [0], [0], [0], [0], [0], [0], [0], [0]]\n",
      "[[0], [0], [0], [0], [0], [0], [0], [0], [0], [0], [0], [0], [0], [0], [0], [0], [0], [0], [0], [0], [0], [0], [0], [0], [0], [0], [0], [0]]\n",
      "[[0], [0], [0], [0], [0], [0], [0], [0], [0], [0], [0], [0], [0], [0], [0], [0], [0], [0], [0], [0], [0], [0], [0], [0], [0], [0], [0], [0]]\n"
     ]
    },
    {
     "data": {
      "image/png": "[encoded data removed]",
      "text/plain": [
       "<matplotlib.figure.Figure at 0x7f10eb4e2c18>"
      ]
     },
     "metadata": {},
     "output_type": "display_data"
    },
    {
     "name": "stdout",
     "output_type": "stream",
     "text": [
      "--------------------------------------------------------------------------------------\n",
      "result :  [8]\n"
     ]
    }
   ],
   "source": [
    "imageBuff = []\n",
    "imageBuff_p = []\n",
    "index = 0\n",
    "for i in range(28) :\n",
    "    _row = []\n",
    "    _row_p = []\n",
    "    for j in range(28) :\n",
    "        _cell = image[index]\n",
    "        index = index + 1\n",
    "        if _cell < 1 :\n",
    "            _cell = 0\n",
    "        else :\n",
    "            _cell = 1\n",
    "        _row.append([_cell])\n",
    "        _row_p.append(_cell)\n",
    "    imageBuff.append(_row)\n",
    "    imageBuff_p.append(_row_p)\n",
    "    print ( _row)\n",
    "\n",
    "plt.imshow ( imageBuff_p )\n",
    "plt.show()\n",
    "\n",
    "print('--------------------------------------------------------------------------------------')\n",
    "result = tf.argmax(eval_prediction, 1)\n",
    "print ( 'result : ' , result.eval({eval_data: [imageBuff]}) )"
   ]
  },
  {
   "cell_type": "code",
   "execution_count": 5,
   "metadata": {
    "collapsed": false
   },
   "outputs": [
    {
     "name": "stdout",
     "output_type": "stream",
     "text": [
      "[7]\n"
     ]
    }
   ],
   "source": []
  },
  {
   "cell_type": "code",
   "execution_count": null,
   "metadata": {
    "collapsed": true
   },
   "outputs": [],
   "source": [
    "sess.close()"
   ]
  }
 ],
 "metadata": {
  "kernelspec": {
   "display_name": "Python 3",
   "language": "python",
   "name": "python3"
  },
  "language_info": {
   "codemirror_mode": {
    "name": "ipython",
    "version": 3
   },
   "file_extension": ".py",
   "mimetype": "text/x-python",
   "name": "python",
   "nbconvert_exporter": "python",
   "pygments_lexer": "ipython3",
   "version": "3.5.2"
  }
 },
 "nbformat": 4,
 "nbformat_minor": 0
}
